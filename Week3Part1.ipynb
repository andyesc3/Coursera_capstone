{
 "cells": [
  {
   "cell_type": "code",
   "execution_count": null,
   "id": "cd14e608",
   "metadata": {},
   "outputs": [],
   "source": [
    "import pandas as pd\n",
    "import numpy as np\n",
    "import requests\n",
    "from bs4 import BeautifulSoup"
   ]
  },
  {
   "cell_type": "code",
   "execution_count": null,
   "id": "18972745",
   "metadata": {},
   "outputs": [],
   "source": [
    "URL = \"https://en.wikipedia.org/wiki/List_of_postal_codes_of_Canada:_M\"\n",
    "page = requests.get(URL)\n",
    "soup = BeautifulSoup(page.content, \"html.parser\")"
   ]
  },
  {
   "cell_type": "code",
   "execution_count": null,
   "id": "59de7fa1",
   "metadata": {},
   "outputs": [],
   "source": [
    "table = soup.find('table')\n",
    "file=[]\n",
    "ncol=list(range(0,9))\n",
    "\n",
    "for i in ncol :\n",
    "    \n",
    "    for row in table.find_all('tr'): # in html table row is represented by the table\n",
    "    # Get all columns in each row.\n",
    "        cols = row.find_all('p') # in html a column is represented by the tag td or p\n",
    "        file.append(cols[i].getText())\n",
    "\n",
    "    # convert to dataframe:\n",
    "df= pd.DataFrame(file)"
   ]
  },
  {
   "cell_type": "code",
   "execution_count": null,
   "id": "38333d60",
   "metadata": {},
   "outputs": [],
   "source": [
    "df[\"PostalCode\"]=df[0].str[0:3]\n",
    "df[\"Borough\"]=df[0].str[3:].str.split(\"(\",n=1,expand=True)[0]\n",
    "df[\"Neigh\"]=df[0].str.rsplit(\"(\",n=2,expand=True)[1].str.split(\")\",n=1,expand=True)\n",
    "df[\"Neighbourhood\"]=df[\"Neigh\"].str.replace(\" / \",\",\")\n",
    "postalcode_list=df[(df[\"Borough\"]!=\"Not assigned\\n\")]\n",
    "postalcode_list=postalcode_list.drop([0],axis=1)\n",
    "postalcode_list.head()\n",
    "postalcode_list.shape"
   ]
  }
 ],
 "metadata": {
  "kernelspec": {
   "display_name": "Python 3 (ipykernel)",
   "language": "python",
   "name": "python3"
  },
  "language_info": {
   "codemirror_mode": {
    "name": "ipython",
    "version": 3
   },
   "file_extension": ".py",
   "mimetype": "text/x-python",
   "name": "python",
   "nbconvert_exporter": "python",
   "pygments_lexer": "ipython3",
   "version": "3.8.13"
  }
 },
 "nbformat": 4,
 "nbformat_minor": 5
}
