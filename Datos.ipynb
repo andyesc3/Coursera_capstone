{
 "cells": [
  {
   "cell_type": "markdown",
   "id": "56ace83b",
   "metadata": {},
   "source": [
    "# Datos\n",
    "\n",
    "Información de conexión: https://datosabiertos.enacom.gob.ar/dashboards/20000/acceso-a-internet/\n",
    "Ciudades importantes: https://es.wikipedia.org/wiki/Localidades_balnearias_del_mar_Argentino\n",
    "Coordenadas geográficas: https://es.foursquare.com/developers/projects "
   ]
  },
  {
   "cell_type": "code",
   "execution_count": null,
   "id": "7139a456",
   "metadata": {},
   "outputs": [],
   "source": []
  }
 ],
 "metadata": {
  "kernelspec": {
   "display_name": "Python 3 (ipykernel)",
   "language": "python",
   "name": "python3"
  },
  "language_info": {
   "codemirror_mode": {
    "name": "ipython",
    "version": 3
   },
   "file_extension": ".py",
   "mimetype": "text/x-python",
   "name": "python",
   "nbconvert_exporter": "python",
   "pygments_lexer": "ipython3",
   "version": "3.8.13"
  }
 },
 "nbformat": 4,
 "nbformat_minor": 5
}
