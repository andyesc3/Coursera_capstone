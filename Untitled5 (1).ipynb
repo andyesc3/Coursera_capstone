{
 "cells": [
  {
   "cell_type": "markdown",
   "id": "3f6d3aae",
   "metadata": {},
   "source": [
    "# REPORTE \n",
    "\n",
    "\n",
    "Datos\n",
    "Información de conexión: https://datosabiertos.enacom.gob.ar/dashboards/20000/acceso-a-internet/ \n",
    "Ciudades importantes: https://es.wikipedia.org/wiki/Localidades_balnearias_del_mar_Argentino \n",
    "Coordenadas geográficas: https://es.foursquare.com/developers/projects\n",
    "\n",
    "Definición del Problema\n",
    "A raíz de los cambios que se han dado en los últimos años, sobretodo gracias a la pandemia, muchas personas han comenzado a migrar de las grandes ciudades a otras más pequeñas en busca de un sitio tranquilo en donde poder trabajar en línea.\n",
    "\n",
    "Para este caso un grupo de inversionistas está interesado en hacer un estudio en la Costa Atlántica Argentina, con la finalidad de determinar cual es la mejor ciudad para desarrollar su proyecto.\n",
    "\n",
    "Proceso\n",
    "Después de determinar las ciudades mas importantes se combino con la población target.\n",
    "Luego se trabajo con las variables geograficas, dividiendolas en los sitios mas populares, mientras que con la variable de conexión se determinó cuales contaban con buen internet.\n",
    "\n",
    "Normal\n",
    "Para facilitar el proceso de modelación se normalizaaron los datos. \n",
    "\n",
    "Clustering \n",
    "Se determino el valor optimo por medio de la curva elbow, quedando k=3 \n",
    "\n"
   ]
  }
 ],
 "metadata": {
  "kernelspec": {
   "display_name": "Python 3 (ipykernel)",
   "language": "python",
   "name": "python3"
  },
  "language_info": {
   "codemirror_mode": {
    "name": "ipython",
    "version": 3
   },
   "file_extension": ".py",
   "mimetype": "text/x-python",
   "name": "python",
   "nbconvert_exporter": "python",
   "pygments_lexer": "ipython3",
   "version": "3.8.13"
  }
 },
 "nbformat": 4,
 "nbformat_minor": 5
}
