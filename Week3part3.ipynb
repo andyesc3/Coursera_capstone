{
 "cells": [
  {
   "cell_type": "code",
   "execution_count": null,
   "id": "018c2327",
   "metadata": {},
   "outputs": [],
   "source": [
    "import pandas as pd\n",
    "import numpy as np\n",
    "import requests\n",
    "from bs4 import BeautifulSoup"
   ]
  },
  {
   "cell_type": "code",
   "execution_count": null,
   "id": "04f94a64",
   "metadata": {},
   "outputs": [],
   "source": [
    "#!conda install -c conda-forge geopy --yes \n",
    "from geopy.geocoders import Nominatim \n",
    "import requests # librería para manejar solicitudes\n",
    "from pandas.io.json import json_normalize \n",
    "\n",
    "# Matplotlib y módulos para graficar\n",
    "import matplotlib.cm as cm\n",
    "import matplotlib.colors as colors\n",
    "\n",
    "# importar k-means \n",
    "from sklearn.cluster import KMeans\n",
    "\n",
    "#!conda install -c conda-forge folium=0.5.0 --yes \n",
    "import folium "
   ]
  },
  {
   "cell_type": "code",
   "execution_count": null,
   "id": "3a36f86e",
   "metadata": {},
   "outputs": [],
   "source": [
    "#ya hecho antes \n",
    "URL = \"https://en.wikipedia.org/wiki/List_of_postal_codes_of_Canada:_M\"\n",
    "page = requests.get(URL)\n",
    "soup = BeautifulSoup(page.content, \"html.parser\")\n",
    "Una vez hecha la sopa de datos se traen solo los datos de la tabla ya que contienen los codigos postales de Toronto.\n",
    "\n",
    "table = soup.find('table')\n",
    "file=[]\n",
    "ncol=list(range(0,9))\n",
    "\n",
    "for i in ncol :\n",
    "    \n",
    "    for row in table.find_all('tr'): # in html table row is represented by the table\n",
    "    # Get all columns in each row.\n",
    "        cols = row.find_all('p') # in html a column is represented by the tag td or p\n",
    "        file.append(cols[i].getText())\n",
    "\n",
    "    # convert to dataframe:\n",
    "df= pd.DataFrame(file)\n"
   ]
  },
  {
   "cell_type": "code",
   "execution_count": null,
   "id": "0210be5d",
   "metadata": {},
   "outputs": [],
   "source": [
    "#tabla hecha antes\n",
    "df[\"Postal Code\"]=df[0].str[0:3]\n",
    "df[\"Borough\"]=df[0].str[3:].str.split(\"(\",n=1,expand=True)[0]\n",
    "df[\"Neigh\"]=df[0].str.rsplit(\"(\",n=2,expand=True)[1].str.split(\")\",n=1,expand=True)[0]\n",
    "df[\"Neighbourhood\"]=df[\"Neigh\"].str.replace(\" / \",\",\")\n",
    "postalcode_list=df[(df[\"Borough\"]!=\"Not assigned\\n\")]\n",
    "postalcode_list=postalcode_list.drop([0,\"Neigh\"],axis=1)\n",
    "postalcode_list.head()\n",
    "postalcode_list.shape"
   ]
  },
  {
   "cell_type": "code",
   "execution_count": null,
   "id": "bb8e7885",
   "metadata": {},
   "outputs": [],
   "source": [
    "Geospatial_Coordinates=pd.read_csv(\"Geospatial_Coordinates.csv\")\n",
    "coord_list=pd.merge(postalcode_list,Geospatial_Coordinates,on=\"Postal Code\")\n",
    "coord_list.head()"
   ]
  },
  {
   "cell_type": "code",
   "execution_count": null,
   "id": "d12fb7da",
   "metadata": {},
   "outputs": [],
   "source": [
    "address = 'TORONTO,CA'\n",
    "\n",
    "geolocator = Nominatim(user_agent=\"to_explorer\")\n",
    "location = geolocator.geocode(address)\n",
    "latitude = location.latitude\n",
    "longitude = location.longitude\n",
    "print('The geograpical coordinate of Toronto are {}, {}.'.format(latitude, longitude))"
   ]
  },
  {
   "cell_type": "code",
   "execution_count": null,
   "id": "5d11ee77",
   "metadata": {},
   "outputs": [],
   "source": [
    "toronto_data = coord_list[coord_list['Borough'].str.contains('Toronto')].reset_index(drop=True)\n",
    "toronto_data.groupby(\"Borough\").size().sort_values(ascending=False)"
   ]
  },
  {
   "cell_type": "code",
   "execution_count": null,
   "id": "23165324",
   "metadata": {},
   "outputs": [],
   "source": [
    "map_toronto = folium.Map(location=[latitude, longitude], zoom_start=11)\n",
    "\n",
    "for lat, lng, label in zip(toronto_data['Latitude'], toronto_data['Longitude'], toronto_data['Neighbourhood']):\n",
    "    label = folium.Popup(label, parse_html=True)\n",
    "    folium.CircleMarker(\n",
    "        [lat, lng],\n",
    "        radius=5,\n",
    "        popup=label,\n",
    "        color='blue',\n",
    "        fill=True,\n",
    "        fill_color='#3186cc',\n",
    "        fill_opacity=0.7,\n",
    "        parse_html=False).add_to(map_toronto)  \n",
    "    \n",
    "map_toronto"
   ]
  }
 ],
 "metadata": {
  "kernelspec": {
   "display_name": "Python 3 (ipykernel)",
   "language": "python",
   "name": "python3"
  },
  "language_info": {
   "codemirror_mode": {
    "name": "ipython",
    "version": 3
   },
   "file_extension": ".py",
   "mimetype": "text/x-python",
   "name": "python",
   "nbconvert_exporter": "python",
   "pygments_lexer": "ipython3",
   "version": "3.8.13"
  }
 },
 "nbformat": 4,
 "nbformat_minor": 5
}
