{
 "cells": [
  {
   "cell_type": "markdown",
   "id": "e8cf4481",
   "metadata": {},
   "source": [
    "# Definición del Problema"
   ]
  },
  {
   "cell_type": "markdown",
   "id": "edbaa230",
   "metadata": {},
   "source": [
    "A raíz de los cambios que se han dado en los últimos años, sobretodo gracias a la pandemia, muchas personas han comenzado a migrar de las grandes ciudades a otras más pequeñas en busca de un sitio tranquilo en donde poder trabajar en línea.\n",
    "\n",
    "Para este caso un grupo de inversionistas está interesado en hacer un estudio en la Costa Atlántica Argentina, con la finalidad de determinar cual es la mejor ciudad para desarrollar su proyecto."
   ]
  }
 ],
 "metadata": {
  "kernelspec": {
   "display_name": "Python 3 (ipykernel)",
   "language": "python",
   "name": "python3"
  },
  "language_info": {
   "codemirror_mode": {
    "name": "ipython",
    "version": 3
   },
   "file_extension": ".py",
   "mimetype": "text/x-python",
   "name": "python",
   "nbconvert_exporter": "python",
   "pygments_lexer": "ipython3",
   "version": "3.8.13"
  }
 },
 "nbformat": 4,
 "nbformat_minor": 5
}
